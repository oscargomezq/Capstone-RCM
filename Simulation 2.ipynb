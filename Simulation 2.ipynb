{
 "cells": [
  {
   "cell_type": "markdown",
   "metadata": {},
   "source": [
    "# Simulation for Potts model\n",
    "- All levels of interaction\n",
    "- Field (constant for each point)\n",
    "- Preference for low number of colors\n",
    "- Distance between different colors (0 if equal, 1 of different)"
   ]
  },
  {
   "cell_type": "markdown",
   "metadata": {},
   "source": [
    "- $N$ vertices\n",
    "- $P(\\sigma) = \\frac{1}{N^N} \\exp((N-n(\\sigma))\\gamma$), where $n(\\sigma) = \\text{# of colors used in } \\sigma$"
   ]
  },
  {
   "cell_type": "markdown",
   "metadata": {},
   "source": [
    "- Consider the interaction on the largest hyperedge on lattice $\\Lambda$, where $|\\Lambda| = N$\n",
    "- We assign $\\eta_{\\Lambda} \\in \\mathcal{P}(\\{1,2,...,q\\}^N)$ which is in one-to-one correspondence with $\\{1,2,...,N\\}$ (a set with $k$ colors corresponds to $k$).\n",
    "- Each of these corresponds to an energy level in $\\{(N-1)\\gamma, (N-2)\\gamma, ..., 0\\}$\n"
   ]
  },
  {
   "cell_type": "markdown",
   "metadata": {},
   "source": [
    "- Consider the interaction between adjacent sites (edges) $b$ with size $|b|=2$\n",
    "- To each edge assign $\\eta_{b} \\in \\mathcal{P}(\\{0,1\\}^2)$ which is in one-to-one correspondence with the edge being open or closed.\n",
    "- Each of these corresponds to an energy level in $\\{J, -J\\}$"
   ]
  },
  {
   "cell_type": "markdown",
   "metadata": {},
   "source": [
    "- Consider the interaction between adjacent sites and the field, corresponding to $v$ with size $|v|=1$\n",
    "- To each site assign $\\eta_{v} \\in \\mathcal{P}(\\{1,2,...,q\\}^N)$ which is in one-to-one correspondence with the color of the site.\n",
    "- Each of these corresponds to an energy level in $\\{(N-1)\\alpha, (N-2)\\alpha, ...,(N-k)\\alpha, ...,0\\}$ where $k$ corresponds to the $k$th preferred color of the field."
   ]
  },
  {
   "cell_type": "markdown",
   "metadata": {},
   "source": [
    "- Take $ \\upsilon_k =  \\frac{e^{((N-k)\\gamma)} - e^{((N-k-1)\\gamma)}}{e^{((N-1)\\gamma)}} $"
   ]
  },
  {
   "cell_type": "markdown",
   "metadata": {},
   "source": [
    "- Joint distribution\n",
    "- $Q(\\eta, \\sigma) = \\upsilon_{\\eta_{\\Lambda}} \\frac{1}{N^N} \\mathbb{1}_{(n(\\sigma) \\leq \\eta_{\\Lambda})} $"
   ]
  },
  {
   "cell_type": "markdown",
   "metadata": {},
   "source": [
    "- Marginals\n",
    "- $Q(\\eta | \\sigma) =  \\frac { \\upsilon_{\\eta_{\\Lambda}} \\frac{1}{N^N} \\mathbb{1}_{(n(\\sigma) \\leq \\eta_{\\Lambda})} }{P(\\sigma)}$\n",
    "- $Q(\\sigma | \\eta) = \\frac{1}{|\\{\\sigma:  \\eta(\\sigma) \\leq \\eta(\\Lambda)\\}|} $"
   ]
  },
  {
   "cell_type": "code",
   "execution_count": 1,
   "metadata": {},
   "outputs": [],
   "source": [
    "# Initial code from https://rajeshrinet.github.io/blog/2014/ising-model/\n",
    "\n",
    "import numpy as np \n",
    "from numpy.random import rand\n",
    "from scipy.special import binom\n",
    "\n",
    "def initial_config(N, no_colors=2):   \n",
    "    ''' Generate a random color/spin configuration for initialization'''\n",
    "    state = np.random.randint(no_colors, size=(N,N))\n",
    "    return state\n",
    "\n",
    "\n",
    "def mc_move(config, eta_prob, parts, parts_prob, N, no_colors):\n",
    "    '''Monte Carlo move using generalized SW algorithm '''\n",
    "    # Assign eta to each hyperedge\n",
    "    eta = assign_etas(config, eta_prob, no_colors)\n",
    "#     print('assigned eta:', eta)\n",
    "\n",
    "    # Assign labels to each site\n",
    "    config = assign_labels(eta, parts, parts_prob, N, no_colors)\n",
    "#     print('assigned configuration:\\n', config)\n",
    "\n",
    "    return config\n",
    "\n",
    "\n",
    "def number_of_colors (config):\n",
    "    '''Number of colors used in the given confuration of labels'''\n",
    "    return len(np.unique(config))\n",
    "\n",
    "\n",
    "def avg_sites_per_color (config):\n",
    "    '''Average number of sites each present color has in the configuration'''\n",
    "    unq = np.unique(config)\n",
    "    return config.shape[0]*config.shape[1]/len(unq)\n",
    "\n",
    "\n",
    "def prob_eta_lambda(gamma, no_colors, k):\n",
    "    '''Probability of the eta lambda corresponding to a certain number of colors'''\n",
    "    if k < no_colors:\n",
    "        return ( np.exp((no_colors-k)*gamma) - np.exp((no_colors-k-1)*gamma) ) / np.exp((no_colors-1)*gamma)\n",
    "    elif k == no_colors:\n",
    "        return 1 / np.exp((no_colors-1)*gamma)\n",
    "    \n",
    "    \n",
    "def prob_eta_edge(J, col1, col2):\n",
    "    '''Probability of the eta edge corresponding to open or not'''\n",
    "    if col1==col2:\n",
    "        return 1 - np.exp(-2J)\n",
    "    else:\n",
    "        return np.exp(-2J)\n",
    "    \n",
    "    \n",
    "def prob_eta_site(alpha, no_colors, k):\n",
    "    '''Probability of the eta site corresponding to a maximum color number (lower have higher energy)'''\n",
    "    if k < no_colors:\n",
    "        return ( np.exp((no_colors-k)*alpha) - np.exp((no_colors-k-1)*alpha) ) / np.exp((no_colors-1)*alpha)\n",
    "    elif k == q:\n",
    "        return 1 / np.exp((no_colors-1)*alpha)\n",
    "\n",
    "    \n",
    "def lengths_of_partition(partition):\n",
    "    '''Lengths of equal subtrings in a partition'''\n",
    "    lengths = []\n",
    "    cnt = 0\n",
    "    curr = partition[0]\n",
    "    for i in range(len(partition)):\n",
    "        if partition[i] == curr:\n",
    "            cnt += 1\n",
    "            if i == len(partition)-1:\n",
    "                lengths.append(cnt)\n",
    "        else:\n",
    "            lengths.append(cnt)\n",
    "            cnt = 1\n",
    "            curr = partition[i]\n",
    "            if i == len(partition)-1:\n",
    "                lengths.append(cnt)\n",
    "    return tuple(lengths)\n",
    "\n",
    "\n",
    "def multinomial(params):\n",
    "    if len(params) == 1:\n",
    "        return 1\n",
    "#     print (sum(params), params[0])\n",
    "    return binom(sum(params), params[0]) * multinomial(params[1:])\n",
    "\n",
    "\n",
    "def prob_of_partition(partition, no_sites, no_colors):\n",
    "    '''Probability of a given partition'''\n",
    "    p = partition\n",
    "    l = ll = lengths_of_partition(p)\n",
    "    if sum(l) < no_colors: ll = l + (no_colors-sum(l),)\n",
    "    m1 = multinomial(ll)\n",
    "    m2 = multinomial(p)\n",
    "#     print(p, m1, m2, m1*m2)\n",
    "#     print(l)\n",
    "#     print(ll)\n",
    "#     print()\n",
    "    return m1*m2\n",
    "\n",
    "    \n",
    "def assign_etas(config, prob, no_colors):\n",
    "    '''Assign a number of colors that is at least the current number of colors, with correct probabilities'''\n",
    "    current_k = number_of_colors(config)\n",
    "#     print('current no. of colors:', current_k)\n",
    "    p = prob[current_k-1:]\n",
    "#     print('probabilities for no. of colors:', p)\n",
    "    p = p / p.sum()\n",
    "# #     print('normalized:', p)\n",
    "    eta_lambda = np.random.choice((np.arange(current_k, no_colors+1)), p=p)\n",
    "\n",
    "    '''Assign a closed or open bond to each edge'''\n",
    "    # loop over edges\n",
    "    current_k = number_of_colors(config)\n",
    "#     print('current no. of colors:', current_k)\n",
    "    p = prob[current_k-1:]\n",
    "#     print('probabilities for no. of colors:', p)\n",
    "    p = p / p.sum()\n",
    "# #     print('normalized:', p)\n",
    "    eta_lambda = np.random.choice((np.arange(current_k, no_colors+1)), p=p)\n",
    "    \n",
    "    return eta_lambda, eta_edge, eta_site\n",
    "    \n",
    "def assign_labels(max_colors, parts, prob, N, q):\n",
    "    '''Assign a color configuration that has at most the corresponding number of eta'''\n",
    "    # Brute force version\n",
    "#     config = initial_config(N, q)\n",
    "#     while number_of_colors(config) > max_colors:\n",
    "#         config = initial_config(N, q)\n",
    "#     return config\n",
    "    \n",
    "    idx_max_color = len(parts)                  # index of first occurence of a partition with more than max_colors\n",
    "    for i in range(len(parts)):\n",
    "        if len(parts[i]) > max_colors:\n",
    "            idx_max_color = i\n",
    "            break\n",
    "    \n",
    "#     print('max colors:', max_colors)\n",
    "#     print('partitions:', parts)\n",
    "#     print('idx of partition with max color:', idx_max_color)\n",
    "    p = np.array(prob[:idx_max_color])\n",
    "#     print('probabilities for partitions:', p)\n",
    "    p = p / p.sum()\n",
    "#     print('normalized:', p)\n",
    "    if idx_max_color > 1: chosen_part = np.random.choice(parts[:idx_max_color], p=p)\n",
    "    else: chosen_part = parts[0]\n",
    "#     print('chosen partition:', chosen_part)\n",
    "        \n",
    "    # Choose the colors to be used\n",
    "    chosen_colors = np.random.choice(q, len(chosen_part), replace=False)\n",
    "#     print('chosen colors:', chosen_colors)\n",
    "\n",
    "    # Choose a random permutation of the given word\n",
    "    color_arr = []\n",
    "    for i in range(len(chosen_part)): color_arr += [chosen_colors[i]]*chosen_part[i]\n",
    "    color_arr = np.array(color_arr)\n",
    "#     print('color array:\\n', color_arr)\n",
    "    config = np.random.permutation(color_arr).reshape(N,N)\n",
    "    return config"
   ]
  },
  {
   "cell_type": "code",
   "execution_count": 2,
   "metadata": {},
   "outputs": [],
   "source": [
    "from wolframclient.evaluation import WolframLanguageSession\n",
    "from wolframclient.language import wl, wlexpr\n",
    "\n",
    "def init_partitions(N, q):\n",
    "    session = WolframLanguageSession()\n",
    "    parts = session.evaluate(wl.IntegerPartitions(N*N,q))\n",
    "#     print(parts)\n",
    "\n",
    "    sorted_p = tuple(sorted(parts, key=lambda x: len(x)))\n",
    "#     print(sorted_p)\n",
    "\n",
    "    part_prob = tuple([prob_of_partition(p, N*N, q) for p in sorted_p])\n",
    "#     print(part_prob)\n",
    "#     print(sum(part_prob), q**(N*N))\n",
    "#     print(q**(N*N)-sum(part_prob))\n",
    "    part_prob = tuple(part_prob / sum(part_prob))\n",
    "#     print(part_prob)\n",
    "    return sorted_p, part_prob\n",
    "\n",
    "    session.terminate()"
   ]
  },
  {
   "cell_type": "code",
   "execution_count": 3,
   "metadata": {},
   "outputs": [
    {
     "name": "stdout",
     "output_type": "stream",
     "text": [
      "Initialization done\n",
      "\n",
      "eta probabilities: [9.17915001e-01 7.53470516e-02 6.18486263e-03 5.53084370e-04]\n",
      "initial config:\n",
      " [[3 2 2]\n",
      " [2 0 0]\n",
      " [1 1 1]]\n"
     ]
    }
   ],
   "source": [
    "# Small experiment\n",
    "\n",
    "N, q = 3, 4\n",
    "sorted_p, part_prob = init_partitions(N, q)\n",
    "gamma = 2.5\n",
    "print('Initialization done')\n",
    "print()\n",
    "\n",
    "eta_prob = np.zeros(q)\n",
    "for j in range(q):\n",
    "    eta_prob[j] = prob_eta(gamma,q,j+1)\n",
    "print('eta probabilities:', eta_prob)\n",
    "\n",
    "config = initial_config(N,q)\n",
    "# config = np.array([[0,0],[0,0]])\n",
    "print('initial config:\\n', config)\n",
    "config = mc_move(config, eta_prob, sorted_p, part_prob, N, q)"
   ]
  },
  {
   "cell_type": "code",
   "execution_count": 93,
   "metadata": {},
   "outputs": [
    {
     "data": {
      "text/plain": [
       "array([0, 0, 0], dtype=int64)"
      ]
     },
     "execution_count": 93,
     "metadata": {},
     "output_type": "execute_result"
    }
   ],
   "source": [
    "np.random.choice(4, 3, p=eta_prob)"
   ]
  }
 ],
 "metadata": {
  "kernelspec": {
   "display_name": "Python 3",
   "language": "python",
   "name": "python3"
  },
  "language_info": {
   "codemirror_mode": {
    "name": "ipython",
    "version": 3
   },
   "file_extension": ".py",
   "mimetype": "text/x-python",
   "name": "python",
   "nbconvert_exporter": "python",
   "pygments_lexer": "ipython3",
   "version": "3.6.3"
  }
 },
 "nbformat": 4,
 "nbformat_minor": 2
}
