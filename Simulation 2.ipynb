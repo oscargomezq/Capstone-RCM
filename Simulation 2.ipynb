{
 "cells": [
  {
   "cell_type": "markdown",
   "metadata": {},
   "source": [
    "# Simulation for Potts model\n",
    "- All levels of interaction\n",
    "- Field (constant for each point)\n",
    "- Preference for low number of colors\n",
    "- Distance between different colors (0 if equal, 1 of different)"
   ]
  },
  {
   "cell_type": "markdown",
   "metadata": {},
   "source": [
    "- $N$ vertices\n",
    "- $P(\\sigma) = \\frac{1}{N^N} \\exp((N-n(\\sigma))\\gamma$), where $n(\\sigma) = \\text{# of colors used in } \\sigma$"
   ]
  },
  {
   "cell_type": "markdown",
   "metadata": {},
   "source": [
    "- Consider the interaction on the largest hyperedge on lattice $\\Lambda$, where $|\\Lambda| = N$\n",
    "- We assign $\\eta_{\\Lambda} \\in \\mathcal{P}(\\{1,2,...,q\\}^N)$ which is in one-to-one correspondence with $\\{1,2,...,N\\}$ (a set with $k$ colors corresponds to $k$).\n",
    "- Each of these corresponds to an energy level in $\\{(N-1)\\gamma, (N-2)\\gamma, ..., 0\\}$\n"
   ]
  },
  {
   "cell_type": "markdown",
   "metadata": {},
   "source": [
    "- Consider the interaction between adjacent sites (edges) $b$ with size $|b|=2$\n",
    "- To each edge assign $\\eta_{b} \\in \\mathcal{P}(\\{0,1\\}^2)$ which is in one-to-one correspondence with the edge being open or closed.\n",
    "- Each of these corresponds to an energy level in $\\{J, -J\\}$"
   ]
  },
  {
   "cell_type": "markdown",
   "metadata": {},
   "source": [
    "- Consider the interaction between adjacent sites and the field, corresponding to $v$ with size $|v|=1$\n",
    "- To each site assign $\\eta_{v} \\in \\mathcal{P}(\\{1,2,...,q\\}^N)$ which is in one-to-one correspondence with the color of the site.\n",
    "- Each of these corresponds to an energy level in $\\{(N-1)\\alpha, (N-2)\\alpha, ...,(N-k)\\alpha, ...,0\\}$ where $k$ corresponds to the $k$th preferred color of the field."
   ]
  },
  {
   "cell_type": "markdown",
   "metadata": {},
   "source": [
    "- Take $ \\upsilon_k =  \\frac{e^{((N-k)\\gamma)} - e^{((N-k-1)\\gamma)}}{e^{((N-1)\\gamma)}} $"
   ]
  },
  {
   "cell_type": "markdown",
   "metadata": {},
   "source": [
    "- Joint distribution\n",
    "- $Q(\\eta, \\sigma) = \\upsilon_{\\eta_{\\Lambda}} \\frac{1}{N^N} \\mathbb{1}_{(n(\\sigma) \\leq \\eta_{\\Lambda})} $"
   ]
  },
  {
   "cell_type": "markdown",
   "metadata": {},
   "source": [
    "- Marginals\n",
    "- $Q(\\eta | \\sigma) =  \\frac { \\upsilon_{\\eta_{\\Lambda}} \\frac{1}{N^N} \\mathbb{1}_{(n(\\sigma) \\leq \\eta_{\\Lambda})} }{P(\\sigma)}$\n",
    "- $Q(\\sigma | \\eta) = \\frac{1}{|\\{\\sigma:  \\eta(\\sigma) \\leq \\eta(\\Lambda)\\}|} $"
   ]
  },
  {
   "cell_type": "code",
   "execution_count": 70,
   "metadata": {},
   "outputs": [],
   "source": [
    "# Initial code from https://rajeshrinet.github.io/blog/2014/ising-model/\n",
    "\n",
    "import numpy as np \n",
    "from numpy.random import rand\n",
    "from scipy.special import binom\n",
    "from unionfind import UnionFind\n",
    "\n",
    "# Implement Union Find to find clusters in the configurations\n",
    "# https://github.com/deehzee/unionfind/blob/master/unionfind.py\n",
    "\n",
    "def initial_config(N, no_colors=2):   \n",
    "    ''' Generate a random color/spin configuration for initialization'''\n",
    "    state = np.random.randint(no_colors, size=(N,N))\n",
    "    return state\n",
    "\n",
    "\n",
    "def mc_move(config, eta_prob, eta, N, no_colors, sites):\n",
    "    '''Monte Carlo move using generalized SW algorithm '''\n",
    "    # Assign eta to each hyperedge\n",
    "    eta = assign_etas(config, eta_prob, eta, no_colors)\n",
    "    # print('assigned eta:', eta)\n",
    "\n",
    "    # Assign labels to each site\n",
    "    config = assign_labels(eta, N, no_colors, sites)\n",
    "    # print('assigned configuration:\\n', config)\n",
    "\n",
    "    return config\n",
    "\n",
    "\n",
    "def number_of_colors (config):\n",
    "    '''Number of colors used in the given confuration of labels'''\n",
    "    return len(np.unique(config))\n",
    "\n",
    "\n",
    "def avg_sites_per_color (config):\n",
    "    '''Average number of sites each present color has in the configuration'''\n",
    "    unq = np.unique(config)\n",
    "    return config.shape[0]*config.shape[1]/len(unq)\n",
    "\n",
    "\n",
    "def prob_eta_lambda(gamma, no_colors, k):\n",
    "    '''Probability of the eta lambda corresponding to a certain number of colors'''\n",
    "    if k < no_colors:\n",
    "        return ( np.exp((no_colors-k)*gamma) - np.exp((no_colors-k-1)*gamma) ) / np.exp((no_colors-1)*gamma)\n",
    "    elif k == no_colors:\n",
    "        return 1 / np.exp((no_colors-1)*gamma)\n",
    "    \n",
    "    \n",
    "def prob_eta_edge(J, col1, col2):\n",
    "    '''Probability of the eta edge corresponding to open or not'''\n",
    "    if col1==col2:\n",
    "        return 1 - np.exp(-2J)\n",
    "    else:\n",
    "        return np.exp(-2J)\n",
    "    \n",
    "    \n",
    "def prob_eta_site(alpha, no_colors, k):\n",
    "    '''Probability of the eta site corresponding to a maximum color number (lower have higher energy)'''\n",
    "    if k < no_colors:\n",
    "        return ( np.exp((no_colors-k)*alpha) - np.exp((no_colors-k-1)*alpha) ) / np.exp((no_colors-1)*alpha)\n",
    "    elif k == no_colors:\n",
    "        return 1 / np.exp((no_colors-1)*alpha)\n",
    "\n",
    "    \n",
    "def assign_etas(config, eta_prob, eta, no_colors):\n",
    "    \n",
    "    '''Assign a number of colors that is at least the current number of colors'''\n",
    "    eta_lambda = eta[0]\n",
    "    prob_lambda = eta_prob[0]\n",
    "    # print('probabilities for no. of colors:', p)\n",
    "    \n",
    "    current_k = number_of_colors(config)\n",
    "    p = prob_lambda[current_k-1:]\n",
    "    p = p / p.sum()\n",
    "    # print('normalized:', p)\n",
    "    eta_lambda = np.random.choice((np.arange(current_k, no_colors+1)), p=p)\n",
    "    eta[0] = eta_lambda\n",
    "\n",
    "    '''Assign a closed or open bond to each edge'''\n",
    "    eta_edges = eta[1]\n",
    "    prob_edge = eta_prob[1]\n",
    "    # print('probabilities for edges:', p)\n",
    "    \n",
    "    # loop over edges\n",
    "    for i in range(eta_edges.shape[0]):\n",
    "        for j in range(eta_edges.shape[1]):\n",
    "            for e in range(eta_edges.shape[2]):\n",
    "                if eta_edges[i,j,e] == -1: continue\n",
    "                if e==0: current_b = (0 if config[i,j]==config[i+1,j] else 1)          \n",
    "                elif e==1: current_b = (0 if config[i,j]==config[i,j+1] else 1) \n",
    "                    \n",
    "                p = prob_edge[current_b:]\n",
    "                p = p / p.sum()\n",
    "                # print('normalized:', p)\n",
    "                eta_edge = np.random.choice((np.arange(current_b, 1+1)), p=p) # 0 for present bonds, 1 for not\n",
    "                eta_edges[i,j,e] = eta_edge\n",
    "    eta[1] = eta_edges\n",
    "    \n",
    "    '''Assign a color that has at most the current energy for the color'''\n",
    "    eta_sites = eta[2]\n",
    "    prob_site = eta_prob[2]\n",
    "    \n",
    "    # loop over sites\n",
    "    for i in range(eta_sites.shape[0]):\n",
    "        for j in range(eta_sites.shape[1]):\n",
    "            current_s = config[i,j]\n",
    "            p = prob_site[current_s:]\n",
    "            p = p / p.sum()\n",
    "            # print('normalized:', p)\n",
    "            eta_site = np.random.choice((np.arange(current_s, no_colors+1)), p=p)\n",
    "            eta_sites[i,j] = eta_site\n",
    "    eta[2] = eta_sites\n",
    "            \n",
    "    return eta\n",
    "\n",
    "\n",
    "def site2str(tup):\n",
    "    return str(tup[0]) + ',' + str(tup[1])\n",
    "\n",
    "def str2site(strr):\n",
    "    t = strr.split(',')\n",
    "    return [int(x) for x in t]\n",
    "\n",
    "\n",
    "def sample_config(eta, N, no_colors, sites):\n",
    "        \n",
    "    '''Generate clusters from the assigned bonds (eta_edge)'''\n",
    "\n",
    "    uf = UnionFind(sites)\n",
    "    \n",
    "    \n",
    "    \n",
    "    uf.find('e')\n",
    "    uf.components()\n",
    "\n",
    "    '''For each cluster, find the site with strongest constraint (smallest eta_site)'''\n",
    "    '''Assign that eta_site to the entire cluster'''\n",
    "    \n",
    "    '''Randomly sample a color for each cluster'''\n",
    "\n",
    "    \n",
    "def assign_labels(eta, N, no_colors, sites):\n",
    "    '''Assign a color configuration chosen uniformly from the configurations compatible with eta'''\n",
    "    # Brute force version\n",
    "    #     max_colors = eta[0] # eta_lambda\n",
    "    #     config = sample_config(eta, N, no_colors, sites)\n",
    "    #     while number_of_colors(config) > max_colors:\n",
    "    #         config = sample_config(eta, N, no_colors, sites)\n",
    "    #     return config\n",
    "    \n",
    "    return config"
   ]
  },
  {
   "cell_type": "code",
   "execution_count": null,
   "metadata": {},
   "outputs": [],
   "source": [
    "from unionfind import UnionFind\n",
    "\n",
    "# Implement The Hoshen-Kopelman Algorithm using Union Find to find clusters in the configurations\n",
    "# https://www.ocf.berkeley.edu/~fricke/projects/hoshenkopelman/hoshenkopelman.html\n",
    "# https://github.com/deehzee/unionfind/blob/master/unionfind.py"
   ]
  },
  {
   "cell_type": "code",
   "execution_count": 28,
   "metadata": {},
   "outputs": [
    {
     "ename": "SyntaxError",
     "evalue": "EOL while scanning string literal (<ipython-input-28-f8f7c13ecffa>, line 26)",
     "output_type": "error",
     "traceback": [
      "\u001b[1;36m  File \u001b[1;32m\"<ipython-input-28-f8f7c13ecffa>\"\u001b[1;36m, line \u001b[1;32m26\u001b[0m\n\u001b[1;33m    '''Current states of eta''''\u001b[0m\n\u001b[1;37m                                ^\u001b[0m\n\u001b[1;31mSyntaxError\u001b[0m\u001b[1;31m:\u001b[0m EOL while scanning string literal\n"
     ]
    }
   ],
   "source": [
    "# Small experiment\n",
    "\n",
    "N, q = 3, 4\n",
    "gamma = 2.5\n",
    "J = 1\n",
    "alpha = 2\n",
    "\n",
    "'''Probabilities ordered from highest (high energy) to lowest'''\n",
    "lambda_prob = np.zeros(q)\n",
    "for j in range(q):\n",
    "    lambda_prob[j] = lambda_prob(gamma,q,j+1)\n",
    "print('lambda probabilities:', lambda_prob)\n",
    "\n",
    "edge_prob = np.zeros(2)\n",
    "edge_prob[0] = prob_eta_edge(J, 'same_col', 'same_col')\n",
    "edge_prob[1] = prob_eta_edge(J, 'same_col', 'dif_col')\n",
    "print('edge probabilities:', edge_prob)\n",
    "\n",
    "site_prob = np.zeros(q)\n",
    "for j in range(q):\n",
    "    site_prob[j] = site_prob(alpha,q,j+1)\n",
    "print('site probabilities:', site_prob)\n",
    "\n",
    "eta_prob = (lambda_prob, edge_prob, site_prob)\n",
    "\n",
    "'''Current states of eta'''\n",
    "eta_lambda = 0\n",
    "eta_edges = np.zeros((N,N,2))\n",
    "# Special edge cases (no neighbors at the border)\n",
    "eta_edges[:,N-1,1] = -1\n",
    "eta_edges[N-1,:,0] = -1\n",
    "eta_sites = np.zeros((N,N))\n",
    "eta = (eta_lambda, eta_edges, eta_sites)\n",
    "\n",
    "\n",
    "'''List of sites (tuples) for Union-Find'''\n",
    "sites = []\n",
    "for i in range(N):\n",
    "    for j in range(N):\n",
    "        sites.append(str(i)+','+str(j))\n",
    "\n",
    "config = initial_config(N,q)\n",
    "print('initial config:\\n', config)\n",
    "config = mc_move(config, eta_prob, eta, N, q, sites)"
   ]
  },
  {
   "cell_type": "code",
   "execution_count": 75,
   "metadata": {},
   "outputs": [
    {
     "data": {
      "text/plain": [
       "<UnionFind:\n",
       "\telts=['0,0', '0,1', '0,2', '0,3', '0,4', '1,0', '1,1', '1,2', '1,3', '1,4', '2,0', '2,1', '2,2', '2,3', '2,4', '3,0', '3,1', '3,2', '3,3', '3,4', '4,0', '4,1', '4,2', '4,3', '4,4'],\n",
       "\tsiz=[1, 1, 1, 1, 1, 1, 1, 1, 1, 1, 1, 1, 1, 1, 1, 1, 1, 1, 1, 1, 1, 1, 1, 1, 1],\n",
       "\tpar=[0, 1, 2, 3, 4, 5, 6, 7, 8, 9, 10, 11, 12, 13, 14, 15, 16, 17, 18, 19, 20, 21, 22, 23, 24],\n",
       "n_elts=25,n_comps=25>"
      ]
     },
     "execution_count": 75,
     "metadata": {},
     "output_type": "execute_result"
    }
   ],
   "source": [
    "from unionfind import UnionFind\n",
    "\n",
    "N = 5\n",
    "\n",
    "class Site:\n",
    "  def __init__(self, x, y):\n",
    "    self.x = x\n",
    "    self.y = y\n",
    "\n",
    "# sites = np.zeros((N,N)).tolist()\n",
    "sites = []\n",
    "for i in range(N):\n",
    "    for j in range(N):\n",
    "        sites.append(str(i)+','+str(j))\n",
    "#         sites[i][j] = (i,j) #Site(i,j))\n",
    "        \n",
    "uf = UnionFind(sites)\n",
    "uf"
   ]
  },
  {
   "cell_type": "code",
   "execution_count": 76,
   "metadata": {},
   "outputs": [
    {
     "data": {
      "text/plain": [
       "[{'0,0'},\n",
       " {'0,2'},\n",
       " {'0,3'},\n",
       " {'0,4'},\n",
       " {'1,0'},\n",
       " {'0,1', '1,1', '2,1'},\n",
       " {'1,2'},\n",
       " {'1,3'},\n",
       " {'1,4'},\n",
       " {'2,0'},\n",
       " {'2,2'},\n",
       " {'2,3'},\n",
       " {'2,4'},\n",
       " {'3,0'},\n",
       " {'3,1'},\n",
       " {'3,2'},\n",
       " {'3,3'},\n",
       " {'3,4'},\n",
       " {'4,0'},\n",
       " {'4,1'},\n",
       " {'4,2'},\n",
       " {'4,3'},\n",
       " {'4,4'}]"
      ]
     },
     "execution_count": 76,
     "metadata": {},
     "output_type": "execute_result"
    }
   ],
   "source": [
    "uf.union('1,1', '0,1')\n",
    "uf.union('2,1', '1,1')\n",
    "uf.components()\n",
    "# uf.component('0,1').pop().split(',')\n",
    "\n",
    "\n",
    "# uf.union(Site(1,1), Site(0,1))\n",
    "# uf.union(Site(2,1), Site(1,1))\n",
    "# uf\n",
    "# uf.find('1,1')\n",
    "# uf.component\n"
   ]
  },
  {
   "cell_type": "code",
   "execution_count": null,
   "metadata": {},
   "outputs": [],
   "source": []
  }
 ],
 "metadata": {
  "kernelspec": {
   "display_name": "Python 3",
   "language": "python",
   "name": "python3"
  },
  "language_info": {
   "codemirror_mode": {
    "name": "ipython",
    "version": 3
   },
   "file_extension": ".py",
   "mimetype": "text/x-python",
   "name": "python",
   "nbconvert_exporter": "python",
   "pygments_lexer": "ipython3",
   "version": "3.6.3"
  }
 },
 "nbformat": 4,
 "nbformat_minor": 2
}
