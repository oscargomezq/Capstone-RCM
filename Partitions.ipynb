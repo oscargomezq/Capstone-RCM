{
 "cells": [
  {
   "cell_type": "code",
   "execution_count": 1,
   "metadata": {},
   "outputs": [],
   "source": [
    "from wolframclient.evaluation import WolframLanguageSession\n",
    "from wolframclient.language import wl, wlexpr\n",
    "\n",
    "def init_partitions(N, q):\n",
    "    session = WolframLanguageSession()\n",
    "    parts = session.evaluate(wl.IntegerPartitions(N*N,q))\n",
    "#     print(parts)\n",
    "\n",
    "    sorted_p = tuple(sorted(parts, key=lambda x: len(x)))\n",
    "#     print(sorted_p)\n",
    "\n",
    "#     part_prob = tuple([prob_of_partition(p, N*N, q) for p in sorted_p])\n",
    "#     print(part_prob)\n",
    "#     print(sum(part_prob), q**(N*N))\n",
    "#     print(q**(N*N)-sum(part_prob))\n",
    "#     part_prob = tuple(part_prob / sum(part_prob))\n",
    "#     print(part_prob)\n",
    "#     return sorted_p, part_prob\n",
    "    session.terminate()\n",
    "    return sorted_p\n",
    "\n",
    "    "
   ]
  },
  {
   "cell_type": "code",
   "execution_count": 88,
   "metadata": {},
   "outputs": [],
   "source": [
    "from wolframclient.evaluation import WolframLanguageSession\n",
    "from wolframclient.language import wl, wlexpr\n",
    "from wolframclient.deserializers import binary_deserialize\n",
    "\n",
    "def Bell(n, k):\n",
    "    '''\n",
    "    Returns dict where the keys are the powers of x_i and the values the coefficients.\n",
    "    For example: {(2,1,2,1): 24} means 24 (x_1)^2 (x_2)^1 (x_3)^2 (x_4)^1\n",
    "    '''\n",
    "    session = WolframLanguageSession()\n",
    "    session.evaluate(\"subs = Array[x,\"+str(n-k+1)+\"]\")\n",
    "    bell = session.evaluate(\"Association@CoefficientRules[BellY[\"+str(n)+\", \"+str(k)+\", subs],subs]\")\n",
    "    session.terminate()\n",
    "    return bell"
   ]
  },
  {
   "cell_type": "code",
   "execution_count": 89,
   "metadata": {},
   "outputs": [
    {
     "name": "stdout",
     "output_type": "stream",
     "text": [
      "{(4, 0, 0, 0, 0, 0, 0, 0, 0, 1): 1001, (3, 1, 0, 0, 0, 0, 0, 0, 1, 0): 20020, (3, 0, 1, 0, 0, 0, 0, 1, 0, 0): 60060, (3, 0, 0, 1, 0, 0, 1, 0, 0, 0): 120120, (3, 0, 0, 0, 1, 1, 0, 0, 0, 0): 168168, (2, 2, 0, 0, 0, 0, 0, 1, 0, 0): 135135, (2, 1, 1, 0, 0, 0, 1, 0, 0, 0): 720720, (2, 1, 0, 1, 0, 1, 0, 0, 0, 0): 1261260, (2, 1, 0, 0, 2, 0, 0, 0, 0, 0): 756756, (2, 0, 2, 0, 0, 1, 0, 0, 0, 0): 840840, (2, 0, 1, 1, 1, 0, 0, 0, 0, 0): 2522520, (2, 0, 0, 3, 0, 0, 0, 0, 0, 0): 525525, (1, 3, 0, 0, 0, 0, 1, 0, 0, 0): 360360, (1, 2, 1, 0, 0, 1, 0, 0, 0, 0): 2522520, (1, 2, 0, 1, 1, 0, 0, 0, 0, 0): 3783780, (1, 1, 2, 0, 1, 0, 0, 0, 0, 0): 5045040, (1, 1, 1, 2, 0, 0, 0, 0, 0, 0): 6306300, (1, 0, 3, 1, 0, 0, 0, 0, 0, 0): 2802800, (0, 4, 0, 0, 0, 1, 0, 0, 0, 0): 315315, (0, 3, 1, 0, 1, 0, 0, 0, 0, 0): 2522520, (0, 3, 0, 2, 0, 0, 0, 0, 0, 0): 1576575, (0, 2, 2, 1, 0, 0, 0, 0, 0, 0): 6306300, (0, 1, 4, 0, 0, 0, 0, 0, 0, 0): 1401400}\n",
      "\n",
      "{(4, 0, 0, 0, 0, 0, 0, 0, 0, 1): 1001, (3, 1, 0, 0, 0, 0, 0, 0, 1, 0): 20020, (3, 0, 1, 0, 0, 0, 0, 1, 0, 0): 60060, (3, 0, 0, 1, 0, 0, 1, 0, 0, 0): 120120, (3, 0, 0, 0, 1, 1, 0, 0, 0, 0): 168168, (2, 2, 0, 0, 0, 0, 0, 1, 0, 0): 135135, (2, 1, 1, 0, 0, 0, 1, 0, 0, 0): 720720, (2, 1, 0, 1, 0, 1, 0, 0, 0, 0): 1261260, (2, 1, 0, 0, 2, 0, 0, 0, 0, 0): 756756, (2, 0, 2, 0, 0, 1, 0, 0, 0, 0): 840840, (2, 0, 1, 1, 1, 0, 0, 0, 0, 0): 2522520, (2, 0, 0, 3, 0, 0, 0, 0, 0, 0): 525525, (1, 3, 0, 0, 0, 0, 1, 0, 0, 0): 360360, (1, 2, 1, 0, 0, 1, 0, 0, 0, 0): 2522520, (1, 2, 0, 1, 1, 0, 0, 0, 0, 0): 3783780, (1, 1, 2, 0, 1, 0, 0, 0, 0, 0): 5045040, (1, 1, 1, 2, 0, 0, 0, 0, 0, 0): 6306300, (1, 0, 3, 1, 0, 0, 0, 0, 0, 0): 2802800, (0, 4, 0, 0, 0, 1, 0, 0, 0, 0): 315315, (0, 3, 1, 0, 1, 0, 0, 0, 0, 0): 2522520, (0, 3, 0, 2, 0, 0, 0, 0, 0, 0): 1576575, (0, 2, 2, 1, 0, 0, 0, 0, 0, 0): 6306300, (0, 1, 4, 0, 0, 0, 0, 0, 0, 0): 1401400}\n",
      "\n",
      "{(4, 0, 0, 0, 0, 0, 0, 0, 0, 1): 1001, (3, 1, 0, 0, 0, 0, 0, 0, 1, 0): 20020, (3, 0, 1, 0, 0, 0, 0, 1, 0, 0): 60060, (3, 0, 0, 1, 0, 0, 1, 0, 0, 0): 120120, (3, 0, 0, 0, 1, 1, 0, 0, 0, 0): 168168, (2, 2, 0, 0, 0, 0, 0, 1, 0, 0): 135135, (2, 1, 1, 0, 0, 0, 1, 0, 0, 0): 720720, (2, 1, 0, 1, 0, 1, 0, 0, 0, 0): 1261260, (2, 1, 0, 0, 2, 0, 0, 0, 0, 0): 756756, (2, 0, 2, 0, 0, 1, 0, 0, 0, 0): 840840, (2, 0, 1, 1, 1, 0, 0, 0, 0, 0): 2522520, (2, 0, 0, 3, 0, 0, 0, 0, 0, 0): 525525, (1, 3, 0, 0, 0, 0, 1, 0, 0, 0): 360360, (1, 2, 1, 0, 0, 1, 0, 0, 0, 0): 2522520, (1, 2, 0, 1, 1, 0, 0, 0, 0, 0): 3783780, (1, 1, 2, 0, 1, 0, 0, 0, 0, 0): 5045040, (1, 1, 1, 2, 0, 0, 0, 0, 0, 0): 6306300, (1, 0, 3, 1, 0, 0, 0, 0, 0, 0): 2802800, (0, 4, 0, 0, 0, 1, 0, 0, 0, 0): 315315, (0, 3, 1, 0, 1, 0, 0, 0, 0, 0): 2522520, (0, 3, 0, 2, 0, 0, 0, 0, 0, 0): 1576575, (0, 2, 2, 1, 0, 0, 0, 0, 0, 0): 6306300, (0, 1, 4, 0, 0, 0, 0, 0, 0, 0): 1401400}\n",
      "[(4, 0, 0, 0, 0, 0, 0, 0, 0, 1), (3, 1, 0, 0, 0, 0, 0, 0, 1, 0), (3, 0, 1, 0, 0, 0, 0, 1, 0, 0), (3, 0, 0, 1, 0, 0, 1, 0, 0, 0), (3, 0, 0, 0, 1, 1, 0, 0, 0, 0), (2, 2, 0, 0, 0, 0, 0, 1, 0, 0), (2, 1, 1, 0, 0, 0, 1, 0, 0, 0), (2, 1, 0, 1, 0, 1, 0, 0, 0, 0), (2, 1, 0, 0, 2, 0, 0, 0, 0, 0), (2, 0, 2, 0, 0, 1, 0, 0, 0, 0), (2, 0, 1, 1, 1, 0, 0, 0, 0, 0), (2, 0, 0, 3, 0, 0, 0, 0, 0, 0), (1, 3, 0, 0, 0, 0, 1, 0, 0, 0), (1, 2, 1, 0, 0, 1, 0, 0, 0, 0), (1, 2, 0, 1, 1, 0, 0, 0, 0, 0), (1, 1, 2, 0, 1, 0, 0, 0, 0, 0), (1, 1, 1, 2, 0, 0, 0, 0, 0, 0), (1, 0, 3, 1, 0, 0, 0, 0, 0, 0), (0, 4, 0, 0, 0, 1, 0, 0, 0, 0), (0, 3, 1, 0, 1, 0, 0, 0, 0, 0), (0, 3, 0, 2, 0, 0, 0, 0, 0, 0), (0, 2, 2, 1, 0, 0, 0, 0, 0, 0), (0, 1, 4, 0, 0, 0, 0, 0, 0, 0)]\n",
      "[1001, 20020, 60060, 120120, 168168, 135135, 720720, 1261260, 756756, 840840, 2522520, 525525, 360360, 2522520, 3783780, 5045040, 6306300, 2802800, 315315, 2522520, 1576575, 6306300, 1401400]\n"
     ]
    }
   ],
   "source": [
    "session = WolframLanguageSession()\n",
    "n=14\n",
    "k=5\n",
    "\n",
    "\n",
    "# bell = wlexpr(\"ExportString[ToString[CoefficientRules[BellY[\"+str(n)+\", \"+str(k)+\", Array[x,\"+str(n-k+1)+\"]]]], \"+'\\\"PythonExpression\\\"]' )\n",
    "# bell = session.evaluate(bell)\n",
    "# o = binary_deserialize(bell)\n",
    "# print(bell)\n",
    "\n",
    "session.evaluate(\"subs = Array[x,\"+str(n-k+1)+\"]\")\n",
    "bell = session.evaluate(\"Association@CoefficientRules[BellY[\"+str(n)+\", \"+str(k)+\", subs],subs]\")\n",
    "print(bell)\n",
    "print()\n",
    "b = Bell(n,k)\n",
    "print(b)\n",
    "print()\n",
    "session.evaluate(\"subs = Array[x,\"+str(n-k+1)+\"]\")\n",
    "bell = session.evaluate(\"Association@CoefficientRules[BellY[\"+str(n)+\", \"+str(k)+\", subs],subs]\")\n",
    "print(bell)\n",
    "partition_dict = bell\n",
    "partitions = []\n",
    "partition_p = []\n",
    "for partition in partition_dict:\n",
    "        partitions.append(partition)\n",
    "        partition_p.append(partition_dict[partition])\n",
    "print(partitions)\n",
    "print(partition_p)\n",
    "session.terminate()\n",
    "# type(bell_p[(3, 0, 0, 1)])"
   ]
  },
  {
   "cell_type": "code",
   "execution_count": 94,
   "metadata": {},
   "outputs": [
    {
     "data": {
      "text/plain": [
       "[2, 2, 3, 3, 4]"
      ]
     },
     "execution_count": 94,
     "metadata": {},
     "output_type": "execute_result"
    }
   ],
   "source": [
    "blocks_of_size = (0, 2, 2, 1, 0, 0, 0, 0, 0, 0)\n",
    "part = []\n",
    "for i in range(len(blocks_of_size)):\n",
    "    part+=([i+1]*blocks_of_size[i])\n",
    "part\n",
    "    "
   ]
  },
  {
   "cell_type": "code",
   "execution_count": null,
   "metadata": {},
   "outputs": [],
   "source": []
  }
 ],
 "metadata": {
  "kernelspec": {
   "display_name": "Python 3",
   "language": "python",
   "name": "python3"
  },
  "language_info": {
   "codemirror_mode": {
    "name": "ipython",
    "version": 3
   },
   "file_extension": ".py",
   "mimetype": "text/x-python",
   "name": "python",
   "nbconvert_exporter": "python",
   "pygments_lexer": "ipython3",
   "version": "3.6.3"
  }
 },
 "nbformat": 4,
 "nbformat_minor": 2
}
