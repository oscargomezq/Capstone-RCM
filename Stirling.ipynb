{
 "cells": [
  {
   "cell_type": "code",
   "execution_count": 1,
   "metadata": {},
   "outputs": [],
   "source": [
    "import numpy as np"
   ]
  },
  {
   "cell_type": "code",
   "execution_count": 2,
   "metadata": {},
   "outputs": [],
   "source": [
    "# Stirling numbers of second kind\n",
    "# S = np.zeros((100,100), dtype=int)\n",
    "S = [[0 for i in range(101)] for j in range(101)]\n",
    "\n",
    "# Combinations\n",
    "# C = np.zeros((100,100), dtype=int)\n",
    "C = [[0 for i in range(101)] for j in range(101)]"
   ]
  },
  {
   "cell_type": "code",
   "execution_count": 3,
   "metadata": {},
   "outputs": [],
   "source": [
    "def stirling(n,k,S):\n",
    "#     print(n,k)\n",
    "    if S[n][k] > 0: return S[n][k]\n",
    "    if k>n or k==0 or n==0: return 0\n",
    "    if k==1 or k==n:\n",
    "        S[n][k]=1\n",
    "    else:\n",
    "        S[n][k] = stirling(n-1,k-1,S) + k*stirling(n-1,k,S)\n",
    "    return S[n][k]\n",
    "\n",
    "def combs(n,k,C,S):\n",
    "    if C[n][k] > 0: return C[n][k]\n",
    "    if k>n or k==0 or n==0: return 0\n",
    "    c = 1 # n! / (n-k)!\n",
    "    for i in range(n-k+1, n+1):\n",
    "        c*=i\n",
    "    C[n][k] = c*stirling(n,k,S)\n",
    "    return C[n][k]\n",
    "\n",
    "def H(n,z,C):\n",
    "    h = 0\n",
    "    for k in range(1,n+1):\n",
    "        h += C[n][k] * (z**k)\n",
    "    return h\n",
    "\n",
    "def H_t(n,z,C):\n",
    "    h = 0\n",
    "    for k in range(1,n+1):\n",
    "        h += k * C[n][k] * (z**k)\n",
    "    return h\n",
    "\n",
    "def E_cols(n,z,C):\n",
    "    return H_t(n,z,C)/H(n,z,C)"
   ]
  },
  {
   "cell_type": "code",
   "execution_count": 4,
   "metadata": {},
   "outputs": [],
   "source": [
    "for i in range(101):\n",
    "    for j in range(101):\n",
    "        stirling(i,j,S)\n",
    "        combs(i,j,C,S)"
   ]
  },
  {
   "cell_type": "code",
   "execution_count": 5,
   "metadata": {},
   "outputs": [
    {
     "name": "stdout",
     "output_type": "stream",
     "text": [
      "84\n",
      "[0, 4, 84, 144, 24, 0, 0, 0, 0, 0, 0, 0, 0, 0, 0, 0, 0, 0, 0, 0, 0, 0, 0, 0, 0, 0, 0, 0, 0, 0, 0, 0, 0, 0, 0, 0, 0, 0, 0, 0, 0, 0, 0, 0, 0, 0, 0, 0, 0, 0, 0, 0, 0, 0, 0, 0, 0, 0, 0, 0, 0, 0, 0, 0, 0, 0, 0, 0, 0, 0, 0, 0, 0, 0, 0, 0, 0, 0, 0, 0, 0, 0, 0, 0, 0, 0, 0, 0, 0, 0, 0, 0, 0, 0, 0, 0, 0, 0, 0, 0, 0]\n",
      "256\n",
      "256\n",
      "700\n",
      "2.734375\n"
     ]
    }
   ],
   "source": [
    "print(C[4][2]) #84\n",
    "print(C[4])\n",
    "print (sum(C[4]))\n",
    "print (H(4,1,C))\n",
    "print (H_t(4,1,C))\n",
    "print (E_cols(4,1,C))"
   ]
  },
  {
   "cell_type": "code",
   "execution_count": 26,
   "metadata": {},
   "outputs": [],
   "source": [
    "import matplotlib.pyplot as plt\n",
    "\n",
    "def plot_expected_colors (N):\n",
    "    max_gamma = 100\n",
    "    z = [np.e**(-gamma) for gamma in range(max_gamma)]\n",
    "    print(z)\n",
    "    y = [E_cols(N,zz,C) for zz in z]\n",
    "    plt.plot(range(max_gamma), y, '-ok')\n",
    "    plt.xlabel(\"Gamma (g)\") \n",
    "    plt.ylabel(\"Expected num. colors\")\n",
    "    plt.title(str(N) + \" total sites / colors\")\n",
    "    plt.savefig(\"Expected_no_colors/(\" + str(N)+\",\"+str(N)+\")_vary_gamma_.png\", format=\"png\")\n",
    "    plt.show()"
   ]
  },
  {
   "cell_type": "code",
   "execution_count": 33,
   "metadata": {},
   "outputs": [
    {
     "name": "stdout",
     "output_type": "stream",
     "text": [
      "[1.0, 0.36787944117144233, 0.1353352832366127, 0.04978706836786395, 0.018315638888734186, 0.006737946999085469, 0.0024787521766663594, 0.0009118819655545166, 0.00033546262790251196, 0.00012340980408667962, 4.5399929762484875e-05, 1.670170079024567e-05, 6.144212353328214e-06, 2.260329406981056e-06, 8.315287191035685e-07, 3.0590232050182605e-07, 1.1253517471925921e-07, 4.13993771878517e-08, 1.5229979744712642e-08, 5.602796437537273e-09, 2.06115362243856e-09, 7.582560427911915e-10, 2.789468092868928e-10, 1.0261879631701903e-10, 3.775134544279102e-11, 1.3887943864964039e-11, 5.1090890280633316e-12, 1.879528816539086e-12, 6.914400106940213e-13, 2.543665647376927e-13, 9.35762296884019e-14, 3.4424771084699824e-14, 1.2664165549094198e-14, 4.658886145103406e-15, 1.7139084315420162e-15, 6.305116760147001e-16, 2.319522830243574e-16, 8.533047625744083e-17, 3.139132792048036e-17, 1.154822417301581e-17, 4.248354255291598e-18, 1.5628821893349923e-18, 5.749522264293572e-19, 2.1151310375910853e-19, 7.781132241133815e-20, 2.8625185805494e-20, 1.0530617357553839e-20, 3.8739976286871966e-21, 1.4251640827409387e-21, 5.242885663363478e-22, 1.928749847963923e-22, 7.095474162284724e-23, 2.610279069667712e-23, 9.602680054508703e-24, 3.5326285722008174e-24, 1.2995814250075068e-24, 4.7808928838854835e-25, 1.758792202424317e-25, 6.47023492564548e-26, 2.380266408694408e-26, 8.756510762696549e-27, 3.2213402859925267e-27, 1.185064864233985e-27, 4.359610000063095e-28, 1.6038108905486433e-28, 5.900090541597082e-29, 2.170522011303647e-29, 7.984904245687007e-30, 2.9374821117108137e-30, 1.0806392777072825e-30, 3.975449735908662e-31, 1.4624862272512364e-31, 5.380186160021159e-32, 1.9792598779469122e-32, 7.281290178321672e-33, 2.6786369618080888e-33, 9.854154686111299e-34, 3.6251409191435743e-34, 1.333614815502267e-34, 4.906094730649301e-35, 1.8048513878454228e-35, 6.639677199580763e-36, 2.4426007377405384e-36, 8.985825944049421e-37, 3.305700626760749e-37, 1.216099299252831e-37, 4.473779306181141e-38, 1.6458114310822813e-38, 6.054601895401214e-39, 2.2273635617957542e-39, 8.194012623990554e-40, 3.0144087850653893e-40, 1.1089390193121418e-40, 4.07955866717758e-41, 1.5007857627074024e-41, 5.5210822770285605e-42, 2.0310926627348214e-42, 7.471972337343029e-43, 2.748785007910229e-43, 1.011221492610454e-43]\n"
     ]
    },
    {
     "data": {
      "image/png": "[encoded data removed]",
      "text/plain": [
       "<Figure size 432x288 with 1 Axes>"
      ]
     },
     "metadata": {},
     "output_type": "display_data"
    }
   ],
   "source": [
    "# Number of sites\n",
    "N = 100\n",
    "plot_expected_colors(N)"
   ]
  },
  {
   "cell_type": "code",
   "execution_count": null,
   "metadata": {},
   "outputs": [],
   "source": []
  }
 ],
 "metadata": {
  "kernelspec": {
   "display_name": "Python 3",
   "language": "python",
   "name": "python3"
  },
  "language_info": {
   "codemirror_mode": {
    "name": "ipython",
    "version": 3
   },
   "file_extension": ".py",
   "mimetype": "text/x-python",
   "name": "python",
   "nbconvert_exporter": "python",
   "pygments_lexer": "ipython3",
   "version": "3.6.3"
  }
 },
 "nbformat": 4,
 "nbformat_minor": 2
}
