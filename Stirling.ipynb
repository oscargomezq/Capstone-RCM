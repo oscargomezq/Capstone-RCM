{
 "cells": [
  {
   "cell_type": "code",
   "execution_count": 3,
   "metadata": {},
   "outputs": [],
   "source": [
    "import numpy as np"
   ]
  },
  {
   "cell_type": "code",
   "execution_count": 4,
   "metadata": {},
   "outputs": [],
   "source": [
    "# Stirling numbers of second kind\n",
    "S = [[0 for i in range(1001)] for j in range(1001)]\n",
    "\n",
    "# Combinations\n",
    "C = [[0 for i in range(1001)] for j in range(1001)]"
   ]
  },
  {
   "cell_type": "code",
   "execution_count": 5,
   "metadata": {},
   "outputs": [],
   "source": [
    "def stirling(n,k,S):\n",
    "#     print(n,k)\n",
    "    if S[n][k] > 0: return S[n][k]\n",
    "    if k>n or k==0 or n==0: return 0\n",
    "    if k==1 or k==n:\n",
    "        S[n][k]=1\n",
    "    else:\n",
    "        S[n][k] = stirling(n-1,k-1,S) + k*stirling(n-1,k,S)\n",
    "    return S[n][k]\n",
    "\n",
    "def combs(n,k,C,S):\n",
    "    if C[n][k] > 0: return C[n][k]\n",
    "    if k>n or k==0 or n==0: return 0\n",
    "    c = 1 # n! / (n-k)!\n",
    "    for i in range(n-k+1, n+1):\n",
    "        c*=i\n",
    "    C[n][k] = c*stirling(n,k,S)\n",
    "    return C[n][k]\n",
    "\n",
    "def H(n,z,C):\n",
    "    h = 0\n",
    "    for k in range(1,n+1):\n",
    "        h += C[n][k] * (z**k)\n",
    "    return h\n",
    "\n",
    "# Denominator in Expected no. of colors\n",
    "def H_t(n,z,C):\n",
    "    h = 0\n",
    "    for k in range(1,n+1):\n",
    "        h += k * C[n][k] * (z**k)\n",
    "    return h\n",
    "\n",
    "# Denominator in Expected no. of colors squared\n",
    "def H_t_t(n,z,C):\n",
    "    h = 0\n",
    "    for k in range(1,n+1):\n",
    "        h += (k**2) * C[n][k] * (z**k)\n",
    "    return h\n",
    "\n",
    "def E_cols(n,z,C):\n",
    "    return H_t(n,z,C)/H(n,z,C)\n",
    "\n",
    "def Var_cols(n,z,C):\n",
    "    EX_2 = H_t_t(n,z,C)/H(n,z,C)\n",
    "    v = EX_2 - (E_cols(n,z,C)**2)\n",
    "#     if v < 0: print(\"Negative variance in\",n,z,C)\n",
    "    return v\n",
    "\n",
    "def std_cols(n,z,C):\n",
    "    return Var_cols(n,z,C)**(0.5)"
   ]
  },
  {
   "cell_type": "code",
   "execution_count": 6,
   "metadata": {},
   "outputs": [
    {
     "name": "stdout",
     "output_type": "stream",
     "text": [
      "0\n",
      "100\n",
      "200\n",
      "300\n",
      "400\n",
      "500\n",
      "600\n",
      "700\n",
      "800\n",
      "900\n",
      "1000\n"
     ]
    }
   ],
   "source": [
    "for i in range(1001):\n",
    "    if i%100==0: print(i)\n",
    "    for j in range(1001):\n",
    "        stirling(i,j,S)\n",
    "        combs(i,j,C,S)"
   ]
  },
  {
   "cell_type": "code",
   "execution_count": 7,
   "metadata": {
    "scrolled": true
   },
   "outputs": [
    {
     "name": "stdout",
     "output_type": "stream",
     "text": [
      "C(4,2): 84\n",
      "C(4,.): [0, 4, 84, 144, 24, 0, 0, 0, 0, 0]\n",
      "sum of C(4,.): 256\n",
      "H(4,1): 256\n",
      "H_t(4,1): 700\n",
      "H_t_t(4,1): 2020\n",
      "E_cols(4,1): 2.734375\n",
      "Var_cols(4,1): 0.413818359375\n",
      "std_cols(4,1): 0.6432871515699656\n"
     ]
    }
   ],
   "source": [
    "print(\"C(4,2):\", C[4][2]) #84\n",
    "print(\"C(4,.):\", C[4][:10])\n",
    "print (\"sum of C(4,.):\", sum(C[4]))\n",
    "print (\"H(4,1):\", H(4,1,C))\n",
    "print (\"H_t(4,1):\", H_t(4,1,C))\n",
    "print (\"H_t_t(4,1):\", H_t_t(4,1,C))\n",
    "print (\"E_cols(4,1):\", E_cols(4,1,C))\n",
    "print (\"Var_cols(4,1):\", Var_cols(4,1,C))\n",
    "print (\"std_cols(4,1):\", std_cols(4,1,C))"
   ]
  },
  {
   "cell_type": "code",
   "execution_count": 64,
   "metadata": {},
   "outputs": [],
   "source": [
    "import matplotlib.pyplot as plt\n",
    "\n",
    "def plot_expected_colors (N):\n",
    "    max_gamma = 100\n",
    "    z = [np.e**(-gamma) for gamma in range(max_gamma)]\n",
    "    print(z)\n",
    "    y = [E_cols(N,zz,C) for zz in z]\n",
    "    f = plt.figure(figsize=(18, 5))\n",
    "    plt.plot(range(max_gamma), y, '-ok')\n",
    "    plt.xlabel(\"Gamma (g)\") \n",
    "    plt.ylabel(\"Expected num. colors\")\n",
    "    plt.title(str(N) + \" total sites / colors\")\n",
    "    plt.savefig(\"Expected_no_colors/(\" + str(N)+\",\"+str(N)+\")_vary_gamma_.png\", format=\"png\")\n",
    "    plt.show()\n",
    "    \n",
    "def plot_std_colors (N):\n",
    "    max_gamma = 100\n",
    "    z = [np.e**(-gamma) for gamma in range(max_gamma)]\n",
    "    y = [std_cols(N,zz,C) for zz in z]\n",
    "    f = plt.figure(figsize=(18, 5))\n",
    "    plt.plot(range(max_gamma), y, '-ok')\n",
    "    plt.xlabel(\"Gamma (g)\") \n",
    "    plt.ylabel(\"Std. num. colors\")\n",
    "    plt.title(str(N) + \" total sites / colors\")\n",
    "    plt.savefig(\"Expected_no_colors/std_(\" + str(N)+\",\"+str(N)+\")_vary_gamma_.png\", format=\"png\")\n",
    "    plt.show()\n",
    "    \n",
    "def plot_avg_std_colors (N):\n",
    "    max_gamma = 100\n",
    "    gammas = np.linspace(0, max_gamma, num=100)\n",
    "    z = [np.e**(-gamma) for gamma in gammas]\n",
    "    y = [E_cols(N,zz,C) for zz in z]\n",
    "    yerr = [np.real(std_cols(N,zz,C)) for zz in z]\n",
    "    f = plt.figure(figsize=(18, 5))\n",
    "    plt.errorbar(gammas, y, yerr=yerr, marker='o', color='black', capsize=3)\n",
    "    plt.xlabel(\"Gamma (g)\", fontsize=20) \n",
    "    plt.ylabel(\"Expected num. colors\", fontsize=20)\n",
    "    plt.title(str(N) + \" total sites / colors\", fontsize=20)\n",
    "    plt.savefig(\"Expected_no_colors/avg_std_(\" + str(N)+\",\"+str(N)+\")_vary_gamma_.png\", format=\"png\")\n",
    "    plt.show()"
   ]
  },
  {
   "cell_type": "code",
   "execution_count": 69,
   "metadata": {},
   "outputs": [
    {
     "name": "stderr",
     "output_type": "stream",
     "text": [
      "C:\\Users\\Oscar\\Anaconda3\\lib\\site-packages\\ipykernel_launcher.py:50: RuntimeWarning: invalid value encountered in double_scalars\n"
     ]
    },
    {
     "data": {
      "image/png": "[encoded data removed]",
      "text/plain": [
       "<Figure size 1296x360 with 1 Axes>"
      ]
     },
     "metadata": {},
     "output_type": "display_data"
    }
   ],
   "source": [
    "N = 16\n",
    "# plot_expected_colors(N)\n",
    "# plot_std_colors(N)\n",
    "plot_avg_std_colors(N)"
   ]
  },
  {
   "cell_type": "code",
   "execution_count": null,
   "metadata": {},
   "outputs": [],
   "source": []
  }
 ],
 "metadata": {
  "kernelspec": {
   "display_name": "Python 3",
   "language": "python",
   "name": "python3"
  },
  "language_info": {
   "codemirror_mode": {
    "name": "ipython",
    "version": 3
   },
   "file_extension": ".py",
   "mimetype": "text/x-python",
   "name": "python",
   "nbconvert_exporter": "python",
   "pygments_lexer": "ipython3",
   "version": "3.6.3"
  }
 },
 "nbformat": 4,
 "nbformat_minor": 2
}
