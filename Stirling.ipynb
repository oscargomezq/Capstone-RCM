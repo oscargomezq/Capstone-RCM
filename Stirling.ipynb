{
 "cells": [
  {
   "cell_type": "code",
   "execution_count": 49,
   "metadata": {},
   "outputs": [],
   "source": [
    "import numpy as np"
   ]
  },
  {
   "cell_type": "code",
   "execution_count": 50,
   "metadata": {},
   "outputs": [],
   "source": [
    "# Stirling numbers of second kind\n",
    "S = [[0 for i in range(1001)] for j in range(1001)]\n",
    "\n",
    "# Combinations\n",
    "C = [[0 for i in range(1001)] for j in range(1001)]"
   ]
  },
  {
   "cell_type": "code",
   "execution_count": 76,
   "metadata": {},
   "outputs": [],
   "source": [
    "def stirling(n,k,S):\n",
    "#     print(n,k)\n",
    "    if S[n][k] > 0: return S[n][k]\n",
    "    if k>n or k==0 or n==0: return 0\n",
    "    if k==1 or k==n:\n",
    "        S[n][k]=1\n",
    "    else:\n",
    "        S[n][k] = stirling(n-1,k-1,S) + k*stirling(n-1,k,S)\n",
    "    return S[n][k]\n",
    "\n",
    "def combs(n,k,C,S):\n",
    "    if C[n][k] > 0: return C[n][k]\n",
    "    if k>n or k==0 or n==0: return 0\n",
    "    c = 1 # n! / (n-k)!\n",
    "    for i in range(n-k+1, n+1):\n",
    "        c*=i\n",
    "    C[n][k] = c*stirling(n,k,S)\n",
    "    return C[n][k]\n",
    "\n",
    "def H(n,z,C):\n",
    "    h = 0\n",
    "    for k in range(1,n+1):\n",
    "        h += C[n][k] * (z**k)\n",
    "    return h\n",
    "\n",
    "# Denominator in Expected no. of colors\n",
    "def H_t(n,z,C):\n",
    "    h = 0\n",
    "    for k in range(1,n+1):\n",
    "        h += k * C[n][k] * (z**k)\n",
    "    return h\n",
    "\n",
    "# Denominator in Expected no. of colors squared\n",
    "def H_t_t(n,z,C):\n",
    "    h = 0\n",
    "    for k in range(1,n+1):\n",
    "        h += (k**2) * C[n][k] * (z**k)\n",
    "    return h\n",
    "\n",
    "def E_cols(n,z,C):\n",
    "    return H_t(n,z,C)/H(n,z,C)\n",
    "\n",
    "def Var_cols(n,z,C):\n",
    "    EX_2 = H_t_t(n,z,C)/H(n,z,C)\n",
    "    v = EX_2 - (E_cols(n,z,C)**2)\n",
    "#     if v < 0: print(\"Negative variance in\",n,z,C)\n",
    "    return v\n",
    "\n",
    "def std_cols(n,z,C):\n",
    "    return Var_cols(n,z,C)**(0.5)"
   ]
  },
  {
   "cell_type": "code",
   "execution_count": 77,
   "metadata": {},
   "outputs": [
    {
     "name": "stdout",
     "output_type": "stream",
     "text": [
      "0\n",
      "100\n",
      "200\n",
      "300\n",
      "400\n",
      "500\n",
      "600\n",
      "700\n",
      "800\n"
     ]
    },
    {
     "ename": "KeyboardInterrupt",
     "evalue": "",
     "output_type": "error",
     "traceback": [
      "\u001b[1;31m---------------------------------------------------------------------------\u001b[0m",
      "\u001b[1;31mKeyboardInterrupt\u001b[0m                         Traceback (most recent call last)",
      "\u001b[1;32m<ipython-input-77-56f8c608105f>\u001b[0m in \u001b[0;36m<module>\u001b[1;34m()\u001b[0m\n\u001b[0;32m      2\u001b[0m     \u001b[1;32mif\u001b[0m \u001b[0mi\u001b[0m\u001b[1;33m%\u001b[0m\u001b[1;36m100\u001b[0m\u001b[1;33m==\u001b[0m\u001b[1;36m0\u001b[0m\u001b[1;33m:\u001b[0m \u001b[0mprint\u001b[0m\u001b[1;33m(\u001b[0m\u001b[0mi\u001b[0m\u001b[1;33m)\u001b[0m\u001b[1;33m\u001b[0m\u001b[0m\n\u001b[0;32m      3\u001b[0m     \u001b[1;32mfor\u001b[0m \u001b[0mj\u001b[0m \u001b[1;32min\u001b[0m \u001b[0mrange\u001b[0m\u001b[1;33m(\u001b[0m\u001b[1;36m1001\u001b[0m\u001b[1;33m)\u001b[0m\u001b[1;33m:\u001b[0m\u001b[1;33m\u001b[0m\u001b[0m\n\u001b[1;32m----> 4\u001b[1;33m         \u001b[0mstirling\u001b[0m\u001b[1;33m(\u001b[0m\u001b[0mi\u001b[0m\u001b[1;33m,\u001b[0m\u001b[0mj\u001b[0m\u001b[1;33m,\u001b[0m\u001b[0mS\u001b[0m\u001b[1;33m)\u001b[0m\u001b[1;33m\u001b[0m\u001b[0m\n\u001b[0m\u001b[0;32m      5\u001b[0m         \u001b[0mcombs\u001b[0m\u001b[1;33m(\u001b[0m\u001b[0mi\u001b[0m\u001b[1;33m,\u001b[0m\u001b[0mj\u001b[0m\u001b[1;33m,\u001b[0m\u001b[0mC\u001b[0m\u001b[1;33m,\u001b[0m\u001b[0mS\u001b[0m\u001b[1;33m)\u001b[0m\u001b[1;33m\u001b[0m\u001b[0m\n",
      "\u001b[1;32m<ipython-input-76-5d8678e1d2e7>\u001b[0m in \u001b[0;36mstirling\u001b[1;34m(n, k, S)\u001b[0m\n\u001b[0;32m      1\u001b[0m \u001b[1;32mdef\u001b[0m \u001b[0mstirling\u001b[0m\u001b[1;33m(\u001b[0m\u001b[0mn\u001b[0m\u001b[1;33m,\u001b[0m\u001b[0mk\u001b[0m\u001b[1;33m,\u001b[0m\u001b[0mS\u001b[0m\u001b[1;33m)\u001b[0m\u001b[1;33m:\u001b[0m\u001b[1;33m\u001b[0m\u001b[0m\n\u001b[0;32m      2\u001b[0m \u001b[1;31m#     print(n,k)\u001b[0m\u001b[1;33m\u001b[0m\u001b[1;33m\u001b[0m\u001b[0m\n\u001b[1;32m----> 3\u001b[1;33m     \u001b[1;32mif\u001b[0m \u001b[0mS\u001b[0m\u001b[1;33m[\u001b[0m\u001b[0mn\u001b[0m\u001b[1;33m]\u001b[0m\u001b[1;33m[\u001b[0m\u001b[0mk\u001b[0m\u001b[1;33m]\u001b[0m \u001b[1;33m>\u001b[0m \u001b[1;36m0\u001b[0m\u001b[1;33m:\u001b[0m \u001b[1;32mreturn\u001b[0m \u001b[0mS\u001b[0m\u001b[1;33m[\u001b[0m\u001b[0mn\u001b[0m\u001b[1;33m]\u001b[0m\u001b[1;33m[\u001b[0m\u001b[0mk\u001b[0m\u001b[1;33m]\u001b[0m\u001b[1;33m\u001b[0m\u001b[0m\n\u001b[0m\u001b[0;32m      4\u001b[0m     \u001b[1;32mif\u001b[0m \u001b[0mk\u001b[0m\u001b[1;33m>\u001b[0m\u001b[0mn\u001b[0m \u001b[1;32mor\u001b[0m \u001b[0mk\u001b[0m\u001b[1;33m==\u001b[0m\u001b[1;36m0\u001b[0m \u001b[1;32mor\u001b[0m \u001b[0mn\u001b[0m\u001b[1;33m==\u001b[0m\u001b[1;36m0\u001b[0m\u001b[1;33m:\u001b[0m \u001b[1;32mreturn\u001b[0m \u001b[1;36m0\u001b[0m\u001b[1;33m\u001b[0m\u001b[0m\n\u001b[0;32m      5\u001b[0m     \u001b[1;32mif\u001b[0m \u001b[0mk\u001b[0m\u001b[1;33m==\u001b[0m\u001b[1;36m1\u001b[0m \u001b[1;32mor\u001b[0m \u001b[0mk\u001b[0m\u001b[1;33m==\u001b[0m\u001b[0mn\u001b[0m\u001b[1;33m:\u001b[0m\u001b[1;33m\u001b[0m\u001b[0m\n",
      "\u001b[1;31mKeyboardInterrupt\u001b[0m: "
     ]
    }
   ],
   "source": [
    "for i in range(1001):\n",
    "    if i%100==0: print(i)\n",
    "    for j in range(1001):\n",
    "        stirling(i,j,S)\n",
    "        combs(i,j,C,S)"
   ]
  },
  {
   "cell_type": "code",
   "execution_count": 71,
   "metadata": {
    "scrolled": true
   },
   "outputs": [
    {
     "name": "stdout",
     "output_type": "stream",
     "text": [
      "C(4,2): 84\n",
      "C(4,.): [0, 4, 84, 144, 24, 0, 0, 0, 0, 0]\n",
      "sum of C(4,.): 256\n",
      "H(4,1): 256\n",
      "H_t(4,1): 700\n",
      "H_t_t(4,1): 2020\n",
      "E_cols(4,1): 2.734375\n",
      "Var_cols(4,1): 0.413818359375\n",
      "std_cols(4,1): 0.6432871515699656\n"
     ]
    }
   ],
   "source": [
    "print(\"C(4,2):\", C[4][2]) #84\n",
    "print(\"C(4,.):\", C[4][:10])\n",
    "print (\"sum of C(4,.):\", sum(C[4]))\n",
    "print (\"H(4,1):\", H(4,1,C))\n",
    "print (\"H_t(4,1):\", H_t(4,1,C))\n",
    "print (\"H_t_t(4,1):\", H_t_t(4,1,C))\n",
    "print (\"E_cols(4,1):\", E_cols(4,1,C))\n",
    "print (\"Var_cols(4,1):\", Var_cols(4,1,C))\n",
    "print (\"std_cols(4,1):\", std_cols(4,1,C))"
   ]
  },
  {
   "cell_type": "code",
   "execution_count": 72,
   "metadata": {},
   "outputs": [],
   "source": [
    "import matplotlib.pyplot as plt\n",
    "\n",
    "def plot_expected_colors (N):\n",
    "    max_gamma = 100\n",
    "    z = [np.e**(-gamma) for gamma in range(max_gamma)]\n",
    "    print(z)\n",
    "    y = [E_cols(N,zz,C) for zz in z]\n",
    "    plt.plot(range(max_gamma), y, '-ok')\n",
    "    plt.xlabel(\"Gamma (g)\") \n",
    "    plt.ylabel(\"Expected num. colors\")\n",
    "    plt.title(str(N) + \" total sites / colors\")\n",
    "    plt.savefig(\"Expected_no_colors/(\" + str(N)+\",\"+str(N)+\")_vary_gamma_.png\", format=\"png\")\n",
    "    plt.show()\n",
    "    \n",
    "def plot_std_colors (N):\n",
    "    max_gamma = 100\n",
    "    z = [np.e**(-gamma) for gamma in range(max_gamma)]\n",
    "    y = [std_cols(N,zz,C) for zz in z]\n",
    "    plt.plot(range(max_gamma), y, '-ok')\n",
    "    plt.xlabel(\"Gamma (g)\") \n",
    "    plt.ylabel(\"Std. num. colors\")\n",
    "    plt.title(str(N) + \" total sites / colors\")\n",
    "    plt.savefig(\"Expected_no_colors/std_(\" + str(N)+\",\"+str(N)+\")_vary_gamma_.png\", format=\"png\")\n",
    "    plt.show()"
   ]
  },
  {
   "cell_type": "code",
   "execution_count": 74,
   "metadata": {},
   "outputs": [
    {
     "name": "stdout",
     "output_type": "stream",
     "text": [
      "[1.0, 0.36787944117144233, 0.1353352832366127, 0.04978706836786395, 0.018315638888734186, 0.006737946999085469, 0.0024787521766663594, 0.0009118819655545166, 0.00033546262790251196, 0.00012340980408667962, 4.5399929762484875e-05, 1.670170079024567e-05, 6.144212353328214e-06, 2.260329406981056e-06, 8.315287191035685e-07, 3.0590232050182605e-07, 1.1253517471925921e-07, 4.13993771878517e-08, 1.5229979744712642e-08, 5.602796437537273e-09, 2.06115362243856e-09, 7.582560427911915e-10, 2.789468092868928e-10, 1.0261879631701903e-10, 3.775134544279102e-11, 1.3887943864964039e-11, 5.1090890280633316e-12, 1.879528816539086e-12, 6.914400106940213e-13, 2.543665647376927e-13, 9.35762296884019e-14, 3.4424771084699824e-14, 1.2664165549094198e-14, 4.658886145103406e-15, 1.7139084315420162e-15, 6.305116760147001e-16, 2.319522830243574e-16, 8.533047625744083e-17, 3.139132792048036e-17, 1.154822417301581e-17, 4.248354255291598e-18, 1.5628821893349923e-18, 5.749522264293572e-19, 2.1151310375910853e-19, 7.781132241133815e-20, 2.8625185805494e-20, 1.0530617357553839e-20, 3.8739976286871966e-21, 1.4251640827409387e-21, 5.242885663363478e-22, 1.928749847963923e-22, 7.095474162284724e-23, 2.610279069667712e-23, 9.602680054508703e-24, 3.5326285722008174e-24, 1.2995814250075068e-24, 4.7808928838854835e-25, 1.758792202424317e-25, 6.47023492564548e-26, 2.380266408694408e-26, 8.756510762696549e-27, 3.2213402859925267e-27, 1.185064864233985e-27, 4.359610000063095e-28, 1.6038108905486433e-28, 5.900090541597082e-29, 2.170522011303647e-29, 7.984904245687007e-30, 2.9374821117108137e-30, 1.0806392777072825e-30, 3.975449735908662e-31, 1.4624862272512364e-31, 5.380186160021159e-32, 1.9792598779469122e-32, 7.281290178321672e-33, 2.6786369618080888e-33, 9.854154686111299e-34, 3.6251409191435743e-34, 1.333614815502267e-34, 4.906094730649301e-35, 1.8048513878454228e-35, 6.639677199580763e-36, 2.4426007377405384e-36, 8.985825944049421e-37, 3.305700626760749e-37, 1.216099299252831e-37, 4.473779306181141e-38, 1.6458114310822813e-38, 6.054601895401214e-39, 2.2273635617957542e-39, 8.194012623990554e-40, 3.0144087850653893e-40, 1.1089390193121418e-40, 4.07955866717758e-41, 1.5007857627074024e-41, 5.5210822770285605e-42, 2.0310926627348214e-42, 7.471972337343029e-43, 2.748785007910229e-43, 1.011221492610454e-43]\n"
     ]
    },
    {
     "data": {
      "image/png": "[encoded data removed]",
      "text/plain": [
       "<Figure size 432x288 with 1 Axes>"
      ]
     },
     "metadata": {},
     "output_type": "display_data"
    }
   ],
   "source": [
    "# Number of sites\n",
    "N = 142\n",
    "plot_expected_colors(N)"
   ]
  },
  {
   "cell_type": "code",
   "execution_count": 75,
   "metadata": {},
   "outputs": [
    {
     "name": "stderr",
     "output_type": "stream",
     "text": [
      "IOPub data rate exceeded.\n",
      "The notebook server will temporarily stop sending output\n",
      "to the client in order to avoid crashing it.\n",
      "To change this limit, set the config variable\n",
      "`--NotebookApp.iopub_data_rate_limit`.\n",
      "\n",
      "Current values:\n",
      "NotebookApp.iopub_data_rate_limit=1000000.0 (bytes/sec)\n",
      "NotebookApp.rate_limit_window=3.0 (secs)\n",
      "\n",
      "C:\\Users\\Oscar\\Anaconda3\\lib\\site-packages\\numpy\\core\\numeric.py:501: ComplexWarning: Casting complex values to real discards the imaginary part\n",
      "  return array(a, dtype, copy=False, order=order)\n"
     ]
    },
    {
     "data": {
      "image/png": "[encoded data removed]",
      "text/plain": [
       "<Figure size 432x288 with 1 Axes>"
      ]
     },
     "metadata": {},
     "output_type": "display_data"
    }
   ],
   "source": [
    "N = 4\n",
    "plot_std_colors(N)"
   ]
  },
  {
   "cell_type": "code",
   "execution_count": 68,
   "metadata": {},
   "outputs": [
    {
     "data": {
      "text/plain": [
       "-2.0"
      ]
     },
     "execution_count": 68,
     "metadata": {},
     "output_type": "execute_result"
    }
   ],
   "source": [
    "-4**0.5"
   ]
  },
  {
   "cell_type": "code",
   "execution_count": null,
   "metadata": {},
   "outputs": [],
   "source": []
  }
 ],
 "metadata": {
  "kernelspec": {
   "display_name": "Python 3",
   "language": "python",
   "name": "python3"
  },
  "language_info": {
   "codemirror_mode": {
    "name": "ipython",
    "version": 3
   },
   "file_extension": ".py",
   "mimetype": "text/x-python",
   "name": "python",
   "nbconvert_exporter": "python",
   "pygments_lexer": "ipython3",
   "version": "3.6.3"
  }
 },
 "nbformat": 4,
 "nbformat_minor": 2
}
