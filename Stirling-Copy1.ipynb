{
 "cells": [
  {
   "cell_type": "code",
   "execution_count": 1,
   "metadata": {},
   "outputs": [],
   "source": [
    "import numpy as np"
   ]
  },
  {
   "cell_type": "code",
   "execution_count": 10,
   "metadata": {},
   "outputs": [],
   "source": [
    "# Stirling numbers of second kind\n",
    "S = [[0 for i in range(10001)] for j in range(10001)]\n",
    "\n",
    "# Combinations\n",
    "C = [[0 for i in range(10001)] for j in range(10001)]"
   ]
  },
  {
   "cell_type": "code",
   "execution_count": 12,
   "metadata": {},
   "outputs": [],
   "source": [
    "from scipy.special import factorial\n",
    "from decimal import Decimal\n",
    "import decimal\n",
    "import math\n",
    "\n",
    "def stirling(n,k,S):\n",
    "#     print(n,k)\n",
    "    if S[n][k] > 0: return S[n][k]\n",
    "    if k>n or k==0 or n==0: return 0\n",
    "    if k==1 or k==n:\n",
    "        S[n][k]=1\n",
    "    else:\n",
    "        S[n][k] = Decimal(S[n-1][k-1] + k*S[n-1][k])\n",
    "    return S[n][k]\n",
    "\n",
    "def combs(n,k,C,S):\n",
    "    if C[n][k] > 0: return C[n][k]\n",
    "    if k>n or k==0 or n==0: return 0\n",
    "    c = Decimal(math.factorial(n)) / Decimal(math.factorial(n-k))\n",
    "    C[n][k] = Decimal(c*stirling(n,k,S))\n",
    "    return C[n][k]\n",
    "\n",
    "def H(n,z,C):\n",
    "    h = 0\n",
    "    for k in range(1,n+1):\n",
    "        h += Decimal(C[n][k] * Decimal((z**k)))\n",
    "    return h\n",
    "\n",
    "# Denominator in Expected no. of colors\n",
    "def H_t(n,z,C):\n",
    "    h = 0\n",
    "    for k in range(1,n+1):\n",
    "        h += Decimal(k * C[n][k] * Decimal((z**k)))\n",
    "    return h\n",
    "\n",
    "# Denominator in Expected no. of colors squared\n",
    "def H_t_t(n,z,C):\n",
    "    h = 0\n",
    "    for k in range(1,n+1):\n",
    "        h += Decimal((k**2) * C[n][k] * Decimal((z**k)))\n",
    "    return h\n",
    "\n",
    "def E_cols(n,z,C):\n",
    "    return Decimal(H_t(n,z,C)/H(n,z,C))\n",
    "\n",
    "def Var_cols(n,z,C):\n",
    "    EX_2 = Decimal(H_t_t(n,z,C)/H(n,z,C))\n",
    "    v = Decimal(EX_2 - (E_cols(n,z,C)**2))\n",
    "    if v < 0:\n",
    "        # print(\"Negative variance in\",n,z,C)\n",
    "        v = 0\n",
    "    return v\n",
    "\n",
    "def std_cols(n,z,C):\n",
    "    return float(Var_cols(n,z,C))**(0.5)"
   ]
  },
  {
   "cell_type": "code",
   "execution_count": 15,
   "metadata": {},
   "outputs": [],
   "source": [
    "import pickle\n",
    "\n",
    "# with open(r\"Stirling_2500_.pickle\", \"wb\") as f:\n",
    "#     pickle.dump(S, f)\n",
    "# with open(r\"Combs_2500_.pickle\", \"wb\") as f:\n",
    "#     pickle.dump(C, f)\n",
    "\n",
    "with open(r\"Stirling_2500.pickle\", \"rb\") as f:\n",
    "    S = pickle.load(f)\n",
    "with open(r\"Combs_2500.pickle\", \"rb\") as f:\n",
    "    C = pickle.load(f)"
   ]
  },
  {
   "cell_type": "code",
   "execution_count": null,
   "metadata": {
    "scrolled": true
   },
   "outputs": [
    {
     "name": "stdout",
     "output_type": "stream",
     "text": [
      "2500\n",
      "2600\n",
      "2700\n",
      "2800\n"
     ]
    }
   ],
   "source": [
    "for i in range(2500,4000):\n",
    "    if i%100==0: print(i)\n",
    "    for j in range(0,2002):\n",
    "        stirling(i,j,S)\n",
    "        combs(i,j,C,S)"
   ]
  },
  {
   "cell_type": "code",
   "execution_count": null,
   "metadata": {},
   "outputs": [],
   "source": [
    "with open(r\"Stirling_4000.pickle\", \"wb\") as f:\n",
    "    pickle.dump(S, f)\n",
    "with open(r\"Combs_4000.pickle\", \"wb\") as f:\n",
    "    pickle.dump(C, f)"
   ]
  },
  {
   "cell_type": "code",
   "execution_count": 8,
   "metadata": {},
   "outputs": [
    {
     "name": "stdout",
     "output_type": "stream",
     "text": [
      "C(4,2): 84\n",
      "C(4,.): [0, Decimal('4'), Decimal('84'), Decimal('144'), Decimal('24'), 0, 0, 0, 0, 0]\n",
      "sum of C(4,.): 256\n",
      "H(4,1): 256\n",
      "H_t(4,1): 700\n",
      "H_t_t(4,1): 2020\n",
      "E_cols(4,1): 2.734375\n",
      "Var_cols(4,1): 0.413818359375\n",
      "std_cols(4,1): 0.6432871515699656\n"
     ]
    }
   ],
   "source": [
    "print(\"C(4,2):\", C[4][2]) #84\n",
    "print(\"C(4,.):\", C[4][:10])\n",
    "print (\"sum of C(4,.):\", sum(C[4]))\n",
    "print (\"H(4,1):\", H(4,1,C))\n",
    "print (\"H_t(4,1):\", H_t(4,1,C))\n",
    "print (\"H_t_t(4,1):\", H_t_t(4,1,C))\n",
    "print (\"E_cols(4,1):\", E_cols(4,1,C))\n",
    "print (\"Var_cols(4,1):\", Var_cols(4,1,C))\n",
    "print (\"std_cols(4,1):\", std_cols(4,1,C))"
   ]
  },
  {
   "cell_type": "code",
   "execution_count": 32,
   "metadata": {
    "scrolled": true
   },
   "outputs": [],
   "source": [
    "ds = {}\n",
    "\n",
    "# ds[64] = \"[0.4375     0.60416667 1.        ]\"\n",
    "# ds[81] = \"[0.33333333 0.43333333 0.6        1.        ]\"\n",
    "# ds[100] = \"[0.34246575 0.43835616 0.60273973 1.        ]\"\n",
    "# ds[121] = \"[0.28409091 0.34090909 0.43181818 0.60227273 1.        ]\"\n",
    "ds[144] = \"[0.24038462 0.27884615 0.33653846 0.43269231 0.59615385 1.        ]\"\n",
    "ds[200] = \"[0.20979021 0.23776224 0.27972028 0.33566434 0.42657343 0.59440559 1.        ]\"\n",
    "ds[300] = \"[0.16431925 0.18309859 0.20657277 0.23474178 0.27699531 0.33333333 0.42723005 0.5915493  1.        ]\"\n",
    "ds[500] = \"[0.12215909 0.13352273 0.14488636 0.16193182 0.17897727 0.20170455 0.23011364 0.27272727 0.32954545 0.42329545 0.59090909 1.        ]\"\n",
    "ds[600] = \"[0.11374408 0.12322275 0.13270142 0.14454976 0.15876777 0.17772512 0.19905213 0.22985782 0.27014218 0.32938389 0.42180095 0.59004739 1.        ]\"\n",
    "ds[700] = \"[0.10590631 0.11405295 0.12219959 0.13238289 0.14460285 0.15885947 0.17718941 0.19959267 0.23014257 0.2688391  0.32790224 0.42158859 0.5885947  1.        ]\"\n",
    "ds[800] = \"[0.09269162 0.09803922 0.10516934 0.11229947 0.12121212 0.13190731 0.14438503 0.15864528 0.17647059 0.19786096 0.22816399 0.26916221 0.32798574 0.41889483 0.58823529 1.        ]\"\n",
    "ds[900] = \"[0.08730159 0.09206349 0.0984127  0.1047619  0.11269841 0.12063492 0.13174603 0.14285714 0.15714286 0.17619048 0.1984127  0.22857143 0.26825397 0.32698413 0.41904762 0.58888889 1.        ]\"\n",
    "ds[1000] = \"[0.08297568 0.08726753 0.09298999 0.09871245 0.10443491 0.11158798 0.12017167 0.13018598 0.14306152 0.15736767 0.17453505 0.19742489 0.22746781 0.26752504 0.32618026 0.41917024 0.58798283 1.        ]\"\n",
    "ds[1200] = \"[0.07398568 0.07756563 0.0823389  0.08711217 0.09188544 0.09785203 0.10381862 0.11097852 0.12052506 0.1300716  0.14200477 0.15632458 0.17422434 0.19689737 0.22673031 0.2673031  0.32577566 0.41885442 0.58830549 1.        ]\"\n",
    "ds[1400] = \"[0.06755374 0.07062436 0.07369498 0.07778915 0.08188332 0.08597748 0.09109519 0.09723644 0.10337769 0.11054248 0.11975435 0.12998976 0.14124872 0.1555783  0.17400205 0.19651996 0.22620266 0.26714432 0.32548618 0.41862845 0.58751279 1.        ]\"\n",
    "ds[1600] = \"[0.06451613 0.0672043  0.07078853 0.0734767  0.07706093 0.08154122 0.08602151 0.09139785 0.09677419 0.10304659 0.11021505 0.11917563 0.12903226 0.140681   0.15591398 0.17383513 0.19623656 0.22580645 0.26612903 0.32526882 0.41756272 0.58691756 1.        ]\"\n",
    "ds[1800] = \"[0.06140351 0.0645933  0.06698565 0.07017544 0.07336523 0.07735247 0.08133971 0.08532695 0.09090909 0.09649123 0.10287081 0.11004785 0.11881978 0.1291866  0.14114833 0.15550239 0.17304625 0.19617225 0.22567783 0.26634769 0.32535885 0.41786284 0.58692185 1.        ]\"\n",
    "ds[2000] = \"[0.05527638 0.05958363 0.06173726 0.06389088 0.06676238 0.06963388 0.07322326 0.07681263 0.08111989 0.08542714 0.09045226 0.09619526 0.10265614 0.10983489 0.11844939 0.12849964 0.14070352 0.15506102 0.1730079  0.1959799  0.22541278 0.26561378 0.32447954 0.4178033 0.58650395 1.        ]\"\n",
    "\n",
    "for key in ds:\n",
    "    ds[key] = ds[key][1:-1].strip().split(\" \")\n",
    "    tmp = []\n",
    "    for x in ds[key]:\n",
    "        if len(x)>0: tmp.append(float(x))\n",
    "    ds[key] = np.array(tmp)"
   ]
  }
 ],
 "metadata": {
  "kernelspec": {
   "display_name": "Python 3",
   "language": "python",
   "name": "python3"
  },
  "language_info": {
   "codemirror_mode": {
    "name": "ipython",
    "version": 3
   },
   "file_extension": ".py",
   "mimetype": "text/x-python",
   "name": "python",
   "nbconvert_exporter": "python",
   "pygments_lexer": "ipython3",
   "version": "3.6.3"
  }
 },
 "nbformat": 4,
 "nbformat_minor": 2
}
